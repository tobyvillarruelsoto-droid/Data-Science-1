{
 "cells": [
  {
   "cell_type": "markdown",
   "id": "a96f3d53",
   "metadata": {},
   "source": [
    "\n",
    "# Actividad Práctica 2 - Data Science 1 (Coderhouse)\n",
    "\n",
    "**Alumno:** Tobias Villarruel  \n",
    "**Curso:** Data Science 1 - Coderhouse  \n",
    "\n",
    "---\n",
    "\n",
    "## 🎯 Objetivo\n",
    "\n",
    "Realizar **visualizaciones en Python** utilizando el dataset *Air Quality (UCI)*.  \n",
    "Se elaboran **3 gráficos con Matplotlib** y **3 con Seaborn**, incorporando parámetros adicionales que mejoren la legibilidad e interpretación de los datos.\n"
   ]
  },
  {
   "cell_type": "code",
   "execution_count": null,
   "id": "38c12ccb",
   "metadata": {},
   "outputs": [],
   "source": [
    "\n",
    "import pandas as pd\n",
    "import matplotlib.pyplot as plt\n",
    "import seaborn as sns\n",
    "from pathlib import Path\n",
    "\n",
    "plt.style.use(\"seaborn-v0_8-whitegrid\")\n",
    "sns.set_theme(style=\"whitegrid\")\n",
    "\n",
    "RAW_DIR = Path(\"data/raw\")\n",
    "df = pd.read_csv(RAW_DIR / \"air_quality.csv\", sep=\";\")\n",
    "\n",
    "df.head()\n"
   ]
  },
  {
   "cell_type": "code",
   "execution_count": null,
   "id": "8e0f25ca",
   "metadata": {},
   "outputs": [],
   "source": [
    "\n",
    "df = df.dropna(axis=1, how=\"all\")\n",
    "\n",
    "if \"Date\" in df.columns and \"Time\" in df.columns:\n",
    "    df[\"Datetime\"] = pd.to_datetime(df[\"Date\"] + \" \" + df[\"Time\"], errors=\"coerce\")\n",
    "    df = df.dropna(subset=[\"Datetime\"])\n",
    "\n",
    "df.info()\n"
   ]
  },
  {
   "cell_type": "markdown",
   "id": "00c43319",
   "metadata": {},
   "source": [
    "## 📊 Visualizaciones con Matplotlib"
   ]
  },
  {
   "cell_type": "code",
   "execution_count": null,
   "id": "6b0a8df9",
   "metadata": {},
   "outputs": [],
   "source": [
    "\n",
    "plt.figure(figsize=(10,4))\n",
    "plt.plot(df[\"Datetime\"], df[\"CO(GT)\"], color=\"darkred\", linewidth=1.2)\n",
    "plt.title(\"Evolución del CO (GT) a lo largo del tiempo\")\n",
    "plt.xlabel(\"Tiempo\")\n",
    "plt.ylabel(\"Concentración de CO (mg/m³)\")\n",
    "plt.grid(True, linestyle=\"--\", alpha=0.6)\n",
    "plt.tight_layout()\n",
    "plt.show()\n"
   ]
  },
  {
   "cell_type": "markdown",
   "id": "f7165699",
   "metadata": {},
   "source": [
    "\n",
    "**Interpretación:**  \n",
    "El gráfico muestra la evolución temporal del monóxido de carbono (CO). Se observan fluctuaciones marcadas durante el día, posiblemente relacionadas con variaciones en el tránsito vehicular y condiciones climáticas.\n"
   ]
  },
  {
   "cell_type": "code",
   "execution_count": null,
   "id": "45f02f66",
   "metadata": {},
   "outputs": [],
   "source": [
    "\n",
    "plt.figure(figsize=(6,5))\n",
    "plt.scatter(df[\"T\"], df[\"RH\"], color=\"royalblue\", alpha=0.5, edgecolor=\"k\")\n",
    "plt.title(\"Relación entre Temperatura y Humedad Relativa\")\n",
    "plt.xlabel(\"Temperatura (°C)\")\n",
    "plt.ylabel(\"Humedad Relativa (%)\")\n",
    "plt.grid(True, linestyle=\"--\", alpha=0.6)\n",
    "plt.tight_layout()\n",
    "plt.show()\n"
   ]
  },
  {
   "cell_type": "markdown",
   "id": "d2a91f77",
   "metadata": {},
   "source": [
    "\n",
    "**Interpretación:**  \n",
    "Se observa una tendencia negativa: a mayor temperatura, la humedad relativa tiende a disminuir. Esta relación es coherente con el comportamiento atmosférico general.\n"
   ]
  },
  {
   "cell_type": "code",
   "execution_count": null,
   "id": "8cc373e8",
   "metadata": {},
   "outputs": [],
   "source": [
    "\n",
    "plt.figure(figsize=(7,4))\n",
    "plt.hist(df[\"C6H6(GT)\"].dropna(), bins=30, color=\"mediumseagreen\", edgecolor=\"black\", alpha=0.7)\n",
    "plt.title(\"Distribución de concentraciones de Benceno (C6H6)\")\n",
    "plt.xlabel(\"C6H6(GT) (µg/m³)\")\n",
    "plt.ylabel(\"Frecuencia\")\n",
    "plt.grid(True, linestyle=\"--\", alpha=0.6)\n",
    "plt.tight_layout()\n",
    "plt.show()\n"
   ]
  },
  {
   "cell_type": "markdown",
   "id": "4687cae0",
   "metadata": {},
   "source": [
    "\n",
    "**Interpretación:**  \n",
    "La mayoría de los valores de concentración de benceno (C6H6) se concentran en niveles bajos, con algunas observaciones más elevadas que podrían indicar eventos de contaminación específicos.\n"
   ]
  },
  {
   "cell_type": "markdown",
   "id": "b9ed3683",
   "metadata": {},
   "source": [
    "## 🎨 Visualizaciones con Seaborn"
   ]
  },
  {
   "cell_type": "code",
   "execution_count": null,
   "id": "22e27a31",
   "metadata": {},
   "outputs": [],
   "source": [
    "\n",
    "plt.figure(figsize=(10,6))\n",
    "corr = df.select_dtypes(include=[\"float64\", \"int64\"]).corr()\n",
    "sns.heatmap(corr, cmap=\"coolwarm\", annot=True, fmt=\".2f\", linewidths=0.5)\n",
    "plt.title(\"Matriz de Correlación entre Variables Numéricas\")\n",
    "plt.tight_layout()\n",
    "plt.show()\n"
   ]
  },
  {
   "cell_type": "markdown",
   "id": "4fafbde7",
   "metadata": {},
   "source": [
    "\n",
    "**Interpretación:**  \n",
    "El mapa de calor muestra las correlaciones entre las variables principales. Se observa una correlación positiva entre la temperatura y la humedad absoluta (AH), y relaciones negativas entre contaminantes y condiciones atmosféricas.\n"
   ]
  },
  {
   "cell_type": "code",
   "execution_count": null,
   "id": "bd566f9a",
   "metadata": {},
   "outputs": [],
   "source": [
    "\n",
    "plt.figure(figsize=(6,5))\n",
    "sns.boxplot(data=df[[\"NOx(GT)\", \"NO2(GT)\"]], palette=\"Set2\")\n",
    "plt.title(\"Comparación de Distribuciones: NOx(GT) vs NO2(GT)\")\n",
    "plt.ylabel(\"Concentración (µg/m³)\")\n",
    "plt.tight_layout()\n",
    "plt.show()\n"
   ]
  },
  {
   "cell_type": "markdown",
   "id": "d08fa0d7",
   "metadata": {},
   "source": [
    "\n",
    "**Interpretación:**  \n",
    "Los niveles de NOx presentan una mayor dispersión que los de NO₂. Esto sugiere mayor variabilidad en los niveles de óxidos de nitrógeno, posiblemente vinculada a las condiciones de emisión vehicular y meteorológicas.\n"
   ]
  },
  {
   "cell_type": "code",
   "execution_count": null,
   "id": "771c0018",
   "metadata": {},
   "outputs": [],
   "source": [
    "\n",
    "sns.relplot(\n",
    "    data=df, x=\"T\", y=\"RH\", hue=\"CO(GT)\", palette=\"coolwarm\",\n",
    "    alpha=0.7, height=5, aspect=1.2\n",
    ")\n",
    "plt.title(\"Relación entre Temperatura, Humedad y CO(GT)\")\n",
    "plt.xlabel(\"Temperatura (°C)\")\n",
    "plt.ylabel(\"Humedad Relativa (%)\")\n",
    "plt.tight_layout()\n",
    "plt.show()\n"
   ]
  },
  {
   "cell_type": "markdown",
   "id": "d1fec0d8",
   "metadata": {},
   "source": [
    "\n",
    "**Interpretación:**  \n",
    "Al incorporar el color por nivel de CO(GT), se observa que las concentraciones más altas de CO tienden a darse en temperaturas moderadas y humedades intermedias, lo que podría estar vinculado a condiciones atmosféricas de menor dispersión de contaminantes.\n"
   ]
  },
  {
   "cell_type": "markdown",
   "id": "75500ccb",
   "metadata": {},
   "source": [
    "\n",
    "---\n",
    "## 📈 Conclusiones\n",
    "\n",
    "- Se aplicaron seis visualizaciones (3 Matplotlib y 3 Seaborn) sobre el dataset *Air Quality (UCI)*.  \n",
    "- Los gráficos permitieron identificar patrones entre temperatura, humedad y niveles de gases contaminantes.  \n",
    "- Las representaciones visuales facilitaron la detección de relaciones inversas y directas entre variables ambientales.  \n",
    "- Se cumplen los requisitos de la consigna, incluyendo el uso de parámetros adicionales para mejorar la legibilidad.\n"
   ]
  }
 ],
 "metadata": {},
 "nbformat": 4,
 "nbformat_minor": 5
}

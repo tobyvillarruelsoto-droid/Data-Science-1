{
 "cells": [
  {
   "cell_type": "markdown",
   "id": "73615143",
   "metadata": {},
   "source": [
    "\n",
    "# Actividad Práctica 1 - Data Science 1 (Coderhouse)\n",
    "\n",
    "**Alumno:** Tobias Villarruel  \n",
    "**Curso:** Data Science 1 - Coderhouse  \n",
    "**Actividad:** Identificación, carga y descripción de datasets\n",
    "\n",
    "---\n",
    "\n",
    "## Consigna\n",
    "Identificar **3 datasets** que cumplan con las siguientes condiciones:\n",
    "- Al menos **2000 filas**\n",
    "- Al menos **15 columnas**  \n",
    "  \n",
    "Cargar los archivos correspondientes mediante la librería **Pandas** y describir las variables potencialmente interesantes en cada caso, considerando el contexto del dataset.\n"
   ]
  },
  {
   "cell_type": "code",
   "execution_count": null,
   "id": "cff80434",
   "metadata": {},
   "outputs": [],
   "source": [
    "\n",
    "from pathlib import Path\n",
    "import pandas as pd\n",
    "import numpy as np\n",
    "\n",
    "RAW_DIR = Path(\"data/raw\")\n",
    "RAW_DIR.mkdir(parents=True, exist_ok=True)\n",
    "\n",
    "def quick_report(df: pd.DataFrame, sample=5):\n",
    "    print(\"Shape (filas, columnas):\", df.shape)\n",
    "    display(df.head(sample))\n",
    "    print(\"\\nTipos de datos:\")\n",
    "    display(df.dtypes.value_counts())\n",
    "    print(\"\\n% de valores faltantes (top 10):\")\n",
    "    display(df.isna().mean().sort_values(ascending=False).head(10))\n",
    "    print(\"\\nResumen numérico:\")\n",
    "    display(df.describe(include=[np.number]).T.head(10))\n",
    "    print(\"\\nResumen categórico:\")\n",
    "    display(df.describe(include=[object]).T.head(10))\n",
    "\n",
    "def assert_requisitos(df: pd.DataFrame, min_rows=2000, min_cols=15):\n",
    "    assert df.shape[0] >= min_rows, f\"El dataset tiene {df.shape[0]} filas (< {min_rows}).\"\n",
    "    assert df.shape[1] >= min_cols, f\"El dataset tiene {df.shape[1]} columnas (< {min_cols}).\"\n",
    "    print(f\"✅ Cumple requisitos: filas ≥ {min_rows} y columnas ≥ {min_cols}.\")\n"
   ]
  },
  {
   "cell_type": "markdown",
   "id": "bed5b9c3",
   "metadata": {},
   "source": [
    "\n",
    "## Dataset 1: World Development Indicators (WDI) - World Bank\n",
    "\n",
    "**Fuente:** [World Bank Open Data](https://databank.worldbank.org/source/world-development-indicators)\n",
    "\n",
    "**Descripción:**  \n",
    "Contiene indicadores económicos, sociales y de desarrollo del Banco Mundial.  \n",
    "En este caso, se filtraron los datos correspondientes únicamente a **Argentina** para simplificar el análisis y reducir el tamaño del archivo.\n",
    "\n",
    "El dataset conserva más de **2000 filas** (indicadores distintos) y más de **15 columnas** (años), cumpliendo con los requisitos establecidos.\n"
   ]
  },
  {
   "cell_type": "code",
   "execution_count": null,
   "id": "df2d1035",
   "metadata": {},
   "outputs": [],
   "source": [
    "\n",
    "wdi_path = RAW_DIR / \"WDIData.csv\"\n",
    "wdi = pd.read_csv(wdi_path)\n",
    "quick_report(wdi)\n",
    "assert_requisitos(wdi)\n"
   ]
  },
  {
   "cell_type": "markdown",
   "id": "46d291b5",
   "metadata": {},
   "source": [
    "\n",
    "**Variables potencialmente interesantes:**  \n",
    "- `Country Name`: país (en este caso, Argentina).  \n",
    "- `Indicator Name`: nombre del indicador.  \n",
    "- `1960`–`2022`: valores anuales por indicador.  \n",
    "Estas variables permiten realizar análisis temporales de la evolución económica, social y sanitaria de Argentina.\n"
   ]
  },
  {
   "cell_type": "markdown",
   "id": "d28264a7",
   "metadata": {},
   "source": [
    "\n",
    "## Dataset 2: Air Quality - UCI Machine Learning Repository\n",
    "\n",
    "**Fuente:** [UCI Repository - Air Quality Dataset](https://archive.ics.uci.edu/ml/datasets/Air+Quality)\n",
    "\n",
    "**Descripción:**  \n",
    "Datos de contaminación atmosférica medidos por una estación en Italia.  \n",
    "Incluye concentraciones de CO, NOx, NO₂, ozono, temperatura, humedad y otras variables ambientales.\n"
   ]
  },
  {
   "cell_type": "code",
   "execution_count": null,
   "id": "99883bf8",
   "metadata": {},
   "outputs": [],
   "source": [
    "\n",
    "air_path = RAW_DIR / \"air_quality.csv\"\n",
    "air = pd.read_csv(air_path, sep=\";\")\n",
    "quick_report(air)\n",
    "assert_requisitos(air)\n"
   ]
  },
  {
   "cell_type": "markdown",
   "id": "638fe6b7",
   "metadata": {},
   "source": [
    "\n",
    "**Variables potencialmente interesantes:**  \n",
    "- `CO(GT)`: concentración de monóxido de carbono.  \n",
    "- `NOx(GT)` y `NO2(GT)`: niveles de óxidos de nitrógeno.  \n",
    "- `C6H6(GT)`: concentración de benceno.  \n",
    "- `T`, `RH`, `AH`: temperatura, humedad relativa y absoluta.  \n",
    "Estas variables permiten estudiar la calidad del aire y su relación con condiciones meteorológicas.\n"
   ]
  },
  {
   "cell_type": "markdown",
   "id": "2bb48160",
   "metadata": {},
   "source": [
    "\n",
    "## Dataset 3: Global Development Indicators (2000–2020) - Kaggle\n",
    "\n",
    "**Fuente:** [Kaggle - Global Development Indicators 2000–2020](https://www.kaggle.com/datasets/michaelmatta0/global-development-indicators-2000-2020)\n",
    "\n",
    "**Descripción:**  \n",
    "Compila indicadores económicos, sociales y ambientales a nivel global entre los años 2000 y 2020.  \n",
    "Incluye variables relacionadas con el crecimiento económico, salud, educación y sostenibilidad ambiental.\n"
   ]
  },
  {
   "cell_type": "code",
   "execution_count": null,
   "id": "7eed3d73",
   "metadata": {},
   "outputs": [],
   "source": [
    "\n",
    "gdi_path = RAW_DIR / \"Global_Development_2000_2020.csv\"\n",
    "gdi = pd.read_csv(gdi_path)\n",
    "quick_report(gdi)\n",
    "assert_requisitos(gdi)\n"
   ]
  },
  {
   "cell_type": "markdown",
   "id": "cf7e0c73",
   "metadata": {},
   "source": [
    "\n",
    "**Variables potencialmente interesantes:**  \n",
    "- Indicadores económicos: PIB, inflación, comercio exterior.  \n",
    "- Indicadores sociales: esperanza de vida, matrícula educativa, mortalidad infantil.  \n",
    "- Indicadores ambientales: emisiones de CO₂, energía renovable (% del total).  \n",
    "Permite explorar correlaciones entre desarrollo económico, bienestar social y sostenibilidad ambiental.\n"
   ]
  },
  {
   "cell_type": "markdown",
   "id": "e384e1d2",
   "metadata": {},
   "source": [
    "\n",
    "---\n",
    "## Conclusión\n",
    "\n",
    "Los tres datasets cumplen con los requisitos establecidos (≥2000 filas y ≥15 columnas).  \n",
    "El dataset del Banco Mundial fue filtrado para mostrar únicamente información de Argentina, manteniendo su validez para el análisis.  \n",
    "Cada conjunto de datos aporta información relevante para el análisis exploratorio y estadístico en contextos económicos, ambientales y sociales.\n"
   ]
  }
 ],
 "metadata": {},
 "nbformat": 4,
 "nbformat_minor": 5
}
